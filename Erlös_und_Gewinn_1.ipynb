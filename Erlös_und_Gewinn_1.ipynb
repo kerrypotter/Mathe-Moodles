{
 "cells": [
  {
   "cell_type": "code",
   "execution_count": 7,
   "id": "removed-interface",
   "metadata": {},
   "outputs": [],
   "source": [
    "from scipy import optimize\n",
    "import math\n",
    "import decimal"
   ]
  },
  {
   "cell_type": "code",
   "execution_count": 8,
   "id": "popular-position",
   "metadata": {},
   "outputs": [],
   "source": [
    "def round_up(n, decimals=0):\n",
    "    multiplier = 10 ** decimals\n",
    "    return math.ceil(n*multiplier)/multiplier\n",
    "\n",
    "def p(x):\n",
    "    return a*x+d\n",
    "\n",
    "def E(x):\n",
    "    return p(x)*x\n",
    "\n",
    "def K(x):\n",
    "    return a*x**2+b*x+d\n",
    "\n",
    "def E_2(x):\n",
    "    return P*x\n",
    "\n",
    "def G(x):\n",
    "    return E_2(x)-K(x)\n",
    "\n",
    "def K_3(x):\n",
    "    return a*x**2+b*x+d\n",
    "\n",
    "def E_3(x):\n",
    "    return P*x\n",
    "\n",
    "def G_3(x):\n",
    "    return E_3(x)-K_3(x)\n",
    "\n",
    "def Beispiel1():\n",
    "    x = float(optimize.minimize(lambda x: -E(x),10).get(\"x\"))\n",
    "    Erlös = round(E(x),2)\n",
    "    print(\"Maximaler Erlös:\",Erlös)\n",
    "    \n",
    "def Beispiel2():\n",
    "    x = float(optimize.minimize(lambda x: -G(x),10).get(\"x\"))\n",
    "    x = round(x,4)\n",
    "    Gewinn = float(decimal.Decimal(G(x)*100).quantize(decimal.Decimal('1'), rounding=decimal.ROUND_HALF_UP))/100\n",
    "    print(\"Maximaler Gewinn:\",Gewinn)\n",
    "    \n",
    "def Beispiel3():\n",
    "    return round_up(optimize.newton(G_3,10))\n",
    "    "
   ]
  },
  {
   "cell_type": "code",
   "execution_count": 11,
   "id": "elementary-prediction",
   "metadata": {},
   "outputs": [
    {
     "name": "stdout",
     "output_type": "stream",
     "text": [
      "Maximaler Erlös: 6982.76\n"
     ]
    }
   ],
   "source": [
    "# Beispiel 1\n",
    "# function form:\n",
    "# f(x) = ax+d\n",
    "# just coefficients\n",
    "\n",
    "# Preisfunktion\n",
    "a,d = [-0.29,90]\n",
    "\n",
    "Beispiel1()"
   ]
  },
  {
   "cell_type": "code",
   "execution_count": 12,
   "id": "static-residence",
   "metadata": {},
   "outputs": [
    {
     "name": "stdout",
     "output_type": "stream",
     "text": [
      "Maximaler Gewinn: 306.06\n"
     ]
    }
   ],
   "source": [
    "# Beispiel 2\n",
    "# function form:\n",
    "# K(x) = ax^2+b*x+d\n",
    "# just coefficients\n",
    "\n",
    "# Kostenfunktion\n",
    "a,b,d = [0.04,0.3,167]\n",
    "\n",
    "# Fixerlös pro Mengeneinheit\n",
    "P = 9\n",
    "\n",
    "Beispiel2()"
   ]
  },
  {
   "cell_type": "code",
   "execution_count": 13,
   "id": "chinese-footage",
   "metadata": {},
   "outputs": [
    {
     "data": {
      "text/plain": [
       "23.0"
      ]
     },
     "execution_count": 13,
     "metadata": {},
     "output_type": "execute_result"
    }
   ],
   "source": [
    "# Beispiel 3\n",
    "# function form:\n",
    "# K(x) = ax^2+b*x+d\n",
    "# just coefficients\n",
    "\n",
    "# Kostenfunktion\n",
    "a,b,d = [0.04,0.2,177]\n",
    "\n",
    "# Fixerlös pro Mengeneinheit\n",
    "P = 9\n",
    "\n",
    "Beispiel3()"
   ]
  },
  {
   "cell_type": "code",
   "execution_count": null,
   "id": "aquatic-tension",
   "metadata": {},
   "outputs": [],
   "source": []
  }
 ],
 "metadata": {
  "kernelspec": {
   "display_name": "Python 3 (ipykernel)",
   "language": "python",
   "name": "python3"
  },
  "language_info": {
   "codemirror_mode": {
    "name": "ipython",
    "version": 3
   },
   "file_extension": ".py",
   "mimetype": "text/x-python",
   "name": "python",
   "nbconvert_exporter": "python",
   "pygments_lexer": "ipython3",
   "version": "3.9.12"
  }
 },
 "nbformat": 4,
 "nbformat_minor": 5
}
