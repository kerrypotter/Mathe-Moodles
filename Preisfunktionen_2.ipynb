{
 "cells": [
  {
   "cell_type": "code",
   "execution_count": 45,
   "id": "specified-backing",
   "metadata": {},
   "outputs": [],
   "source": [
    "from scipy import optimize"
   ]
  },
  {
   "cell_type": "code",
   "execution_count": 46,
   "id": "sticky-thailand",
   "metadata": {},
   "outputs": [],
   "source": [
    "def p(x):\n",
    "    return a*x+d\n",
    "\n",
    "def p_2(x):\n",
    "    return a*x**2+b*x+d\n",
    "\n",
    "def a_function(x):\n",
    "    return a_a*x+d_a\n",
    "\n",
    "def p_minus_a(x):\n",
    "    return p_2(x)-a_function(x)"
   ]
  },
  {
   "cell_type": "code",
   "execution_count": 47,
   "id": "psychological-receptor",
   "metadata": {},
   "outputs": [],
   "source": [
    "def Preisfunktion():\n",
    "    print(\"Preissenkung:\",round(p(0)-p(N),2))"
   ]
  },
  {
   "cell_type": "code",
   "execution_count": 48,
   "id": "assisted-dutch",
   "metadata": {},
   "outputs": [],
   "source": [
    "def Gleichgewichtsmenge():\n",
    "    print(\"Gleichgewichtsmenge:\",round(optimize.newton(p_minus_a,10)))"
   ]
  },
  {
   "cell_type": "code",
   "execution_count": 50,
   "id": "absolute-remove",
   "metadata": {},
   "outputs": [
    {
     "name": "stdout",
     "output_type": "stream",
     "text": [
      "Preissenkung: 7.25\n"
     ]
    }
   ],
   "source": [
    "# Beispiel 1\n",
    "# function form:\n",
    "# f(x) = ax+d\n",
    "# just coefficients\n",
    "\n",
    "# Preisfunktion\n",
    "a,d = [-0.25,256.55]\n",
    "N = 29\n",
    "\n",
    "Preisfunktion()"
   ]
  },
  {
   "cell_type": "code",
   "execution_count": 51,
   "id": "international-camel",
   "metadata": {},
   "outputs": [
    {
     "name": "stdout",
     "output_type": "stream",
     "text": [
      "Gleichgewichtsmenge: 234\n"
     ]
    }
   ],
   "source": [
    "# Beispiel 2\n",
    "# function form:\n",
    "# p(x) = ax^2+b*x+d\n",
    "# a(x) = ax+d\n",
    "# just coefficients\n",
    "\n",
    "# Preisfunktion\n",
    "a,b,d = [-0.003,-0.05,265]\n",
    "\n",
    "# Angebotsfunktion\n",
    "a_a,d_a = [0.3,18]\n",
    "\n",
    "Gleichgewichtsmenge()"
   ]
  },
  {
   "cell_type": "code",
   "execution_count": null,
   "id": "affiliated-convert",
   "metadata": {},
   "outputs": [],
   "source": []
  }
 ],
 "metadata": {
  "kernelspec": {
   "display_name": "Python 3 (ipykernel)",
   "language": "python",
   "name": "python3"
  },
  "language_info": {
   "codemirror_mode": {
    "name": "ipython",
    "version": 3
   },
   "file_extension": ".py",
   "mimetype": "text/x-python",
   "name": "python",
   "nbconvert_exporter": "python",
   "pygments_lexer": "ipython3",
   "version": "3.9.12"
  }
 },
 "nbformat": 4,
 "nbformat_minor": 5
}
