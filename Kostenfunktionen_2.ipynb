{
 "cells": [
  {
   "cell_type": "code",
   "execution_count": 53,
   "id": "compound-fundamental",
   "metadata": {},
   "outputs": [],
   "source": [
    "import matplotlib.pyplot as plt\n",
    "import numpy as np\n",
    "from scipy import optimize"
   ]
  },
  {
   "cell_type": "code",
   "execution_count": 54,
   "id": "laden-healthcare",
   "metadata": {},
   "outputs": [],
   "source": [
    "def function_(x):\n",
    "    return a*x**3+b*x**2+c*x+d\n",
    "\n",
    "def Stückkostenfunktion(x):\n",
    "    return function_(x)/x\n",
    "\n",
    "def round_up(n, decimals=0):\n",
    "    multiplier = 10 ** decimals\n",
    "    return np.ceil(n*multiplier)/multiplier"
   ]
  },
  {
   "cell_type": "code",
   "execution_count": 55,
   "id": "material-experience",
   "metadata": {},
   "outputs": [],
   "source": [
    "def Betriebsoptimum():\n",
    "    x = optimize.minimize(Stückkostenfunktion, 10)\n",
    "    if Stückkostenfunktion(int(float(x.get(\"x\")))//1) < Stückkostenfunktion(int(float(x.get(\"x\")))//1+1):\n",
    "        print(\"Betriebsoptimum bei x Mengeneinheiten:\",str(int(float(x.get(\"x\"))//1)))\n",
    "    else:\n",
    "        print(\"Betriebsoptimum bei x Mengeneinheiten:\",str(int(float(x.get(\"x\"))//1)+1))\n",
    "    print(\"Langfristige Preisuntergrenze:\",round_up(Stückkostenfunktion(float(x.get(\"x\"))),2))"
   ]
  },
  {
   "cell_type": "code",
   "execution_count": 58,
   "id": "signed-mouse",
   "metadata": {},
   "outputs": [
    {
     "name": "stdout",
     "output_type": "stream",
     "text": [
      "Betriebsoptimum bei x Mengeneinheiten: 313\n",
      "Langfristige Preisuntergrenze: 118.06\n"
     ]
    }
   ],
   "source": [
    "# function form:\n",
    "# f(x) = ax^3+bx^2+cx+d\n",
    "# just coefficients\n",
    "\n",
    "function = [0.001,-0.6,200,2468]\n",
    "a,b,c,d = function\n",
    "\n",
    "# function to execute\n",
    "\n",
    "Betriebsoptimum()"
   ]
  },
  {
   "cell_type": "code",
   "execution_count": null,
   "id": "narrow-desert",
   "metadata": {},
   "outputs": [],
   "source": []
  }
 ],
 "metadata": {
  "kernelspec": {
   "display_name": "Python 3 (ipykernel)",
   "language": "python",
   "name": "python3"
  },
  "language_info": {
   "codemirror_mode": {
    "name": "ipython",
    "version": 3
   },
   "file_extension": ".py",
   "mimetype": "text/x-python",
   "name": "python",
   "nbconvert_exporter": "python",
   "pygments_lexer": "ipython3",
   "version": "3.9.12"
  }
 },
 "nbformat": 4,
 "nbformat_minor": 5
}
