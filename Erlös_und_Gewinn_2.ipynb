{
 "cells": [
  {
   "cell_type": "code",
   "execution_count": 8,
   "id": "returning-turning",
   "metadata": {},
   "outputs": [],
   "source": [
    "from scipy import optimize\n",
    "import math\n",
    "import decimal"
   ]
  },
  {
   "cell_type": "code",
   "execution_count": 9,
   "id": "becoming-haiti",
   "metadata": {},
   "outputs": [],
   "source": [
    "def round_up(n, decimals=0):\n",
    "    multiplier = 10 ** decimals\n",
    "    return math.ceil(n*multiplier)/multiplier\n",
    "\n",
    "def K(x):\n",
    "    return a*x**2+b*x+d\n",
    "\n",
    "def P(x):\n",
    "    return p_a*x+p_d\n",
    "\n",
    "def G(x):\n",
    "    return P(x)*x-K(x)\n",
    "    \n",
    "def Beispiel1():\n",
    "    x = float(optimize.minimize(lambda x: -G(x),10).get(\"x\"))\n",
    "    x = round(x,4)\n",
    "    Gewinn = float(decimal.Decimal(G(x)*100).quantize(decimal.Decimal('1'), rounding=decimal.ROUND_HALF_UP))/100\n",
    "    print(\"Maximaler Gewinn:\",Gewinn)\n",
    "    \n",
    "def Beispiel2():\n",
    "    return round_up(optimize.newton(G,10))\n",
    "    "
   ]
  },
  {
   "cell_type": "code",
   "execution_count": 10,
   "id": "handed-quantum",
   "metadata": {},
   "outputs": [
    {
     "name": "stdout",
     "output_type": "stream",
     "text": [
      "Maximaler Gewinn: 634.45\n"
     ]
    }
   ],
   "source": [
    "# Beispiel 1\n",
    "# function form:\n",
    "# K(x) = ax^2+b*x+d\n",
    "# just coefficients\n",
    "\n",
    "# Kostenfunktion\n",
    "a,b,d = [0.03,0.3,172]\n",
    "\n",
    "# Preisfunktion p(x) = ax+d\n",
    "p_a, p_d = [-0.02,13]\n",
    "\n",
    "Beispiel1()"
   ]
  },
  {
   "cell_type": "code",
   "execution_count": 11,
   "id": "seasonal-olympus",
   "metadata": {},
   "outputs": [
    {
     "data": {
      "text/plain": [
       "20.0"
      ]
     },
     "execution_count": 11,
     "metadata": {},
     "output_type": "execute_result"
    }
   ],
   "source": [
    "# Beispiel 2\n",
    "# function form:\n",
    "# K(x) = ax^2+b*x+d\n",
    "# just coefficients\n",
    "\n",
    "# Kostenfunktion\n",
    "a,b,d = [0.03,0.3,163]\n",
    "\n",
    "# Preisfunktion p(x) = ax+d\n",
    "p_a, p_d = [-0.04,10]\n",
    "\n",
    "Beispiel2()"
   ]
  }
 ],
 "metadata": {
  "kernelspec": {
   "display_name": "Python 3 (ipykernel)",
   "language": "python",
   "name": "python3"
  },
  "language_info": {
   "codemirror_mode": {
    "name": "ipython",
    "version": 3
   },
   "file_extension": ".py",
   "mimetype": "text/x-python",
   "name": "python",
   "nbconvert_exporter": "python",
   "pygments_lexer": "ipython3",
   "version": "3.9.12"
  }
 },
 "nbformat": 4,
 "nbformat_minor": 5
}
