{
 "cells": [
  {
   "cell_type": "code",
   "execution_count": 1,
   "id": "restricted-workplace",
   "metadata": {},
   "outputs": [],
   "source": [
    "from scipy import optimize"
   ]
  },
  {
   "cell_type": "code",
   "execution_count": 23,
   "id": "controlling-horse",
   "metadata": {},
   "outputs": [],
   "source": [
    "def p(x):\n",
    "    return a*x**2+b*x+d"
   ]
  },
  {
   "cell_type": "code",
   "execution_count": 28,
   "id": "surgical-nylon",
   "metadata": {},
   "outputs": [],
   "source": [
    "def Preisfunktion():\n",
    "    print(\"Sättigungsmenge:\",round(optimize.newton(p,3)))\n",
    "    print(\"Preis Bei nachgefragter Menge:\",round(p(N),2))"
   ]
  },
  {
   "cell_type": "code",
   "execution_count": 29,
   "id": "british-freeze",
   "metadata": {},
   "outputs": [
    {
     "name": "stdout",
     "output_type": "stream",
     "text": [
      "Sättigungsmenge: 293\n",
      "Preis Bei nachgefragter Menge: 159.38\n"
     ]
    }
   ],
   "source": [
    "# function form:\n",
    "# f(x) = ax^2+bx+d\n",
    "# just coefficients\n",
    "\n",
    "a,b,d = [-0.002,-0.02,177]\n",
    "\n",
    "# Nachgefragte Menge\n",
    "\n",
    "N = 89\n",
    "\n",
    "Preisfunktion()"
   ]
  },
  {
   "cell_type": "code",
   "execution_count": null,
   "id": "thermal-attachment",
   "metadata": {},
   "outputs": [],
   "source": []
  }
 ],
 "metadata": {
  "kernelspec": {
   "display_name": "Python 3 (ipykernel)",
   "language": "python",
   "name": "python3"
  },
  "language_info": {
   "codemirror_mode": {
    "name": "ipython",
    "version": 3
   },
   "file_extension": ".py",
   "mimetype": "text/x-python",
   "name": "python",
   "nbconvert_exporter": "python",
   "pygments_lexer": "ipython3",
   "version": "3.9.12"
  }
 },
 "nbformat": 4,
 "nbformat_minor": 5
}
