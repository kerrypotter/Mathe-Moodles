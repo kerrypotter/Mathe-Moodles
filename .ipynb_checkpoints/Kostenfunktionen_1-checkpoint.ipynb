{
 "cells": [
  {
   "cell_type": "code",
   "execution_count": 1,
   "id": "molecular-thanksgiving",
   "metadata": {},
   "outputs": [],
   "source": [
    "import matplotlib.pyplot as plt\n",
    "import numpy as np"
   ]
  },
  {
   "cell_type": "code",
   "execution_count": 6,
   "id": "premier-chapel",
   "metadata": {},
   "outputs": [],
   "source": [
    "def approximation(x):\n",
    "    results = np.array([x])\n",
    "    while True:\n",
    "        x = x - f(x)/f_derivation(x)\n",
    "        results = np.append(results, [x], axis=0)\n",
    "        if abs(results[-2]-x) < 0.00000001:\n",
    "            break\n",
    "    return x, results\n",
    "\n",
    "def function_(x):\n",
    "    return function[0]*x**3+function[1]*x**2+function[2]*x+function[3]"
   ]
  },
  {
   "cell_type": "code",
   "execution_count": 16,
   "id": "criminal-voluntary",
   "metadata": {},
   "outputs": [],
   "source": [
    "def Kostenkehre():\n",
    "    global f\n",
    "    def f(x):\n",
    "        return function[0]*6*x+function[1]*2\n",
    "    global f_derivation\n",
    "    def f_derivation(x):\n",
    "        return function[0]*6\n",
    "    x, results = approximation(2)\n",
    "    fig, ax= plt.subplots()\n",
    "    ax.plot(results)\n",
    "    print(\"Kostenkehre bei x Mengeneinheiten:\",str(round(x,2)))\n",
    "    print(\"Kostenkehre bei y Geldeinheiten:\", str(round(function_(x))))"
   ]
  },
  {
   "cell_type": "code",
   "execution_count": 19,
   "id": "inner-stomach",
   "metadata": {},
   "outputs": [
    {
     "name": "stdout",
     "output_type": "stream",
     "text": [
      "Kostenkehre bei x Mengeneinheiten: 20.0\n",
      "Kostenkehre bei y Geldeinheiten: 3042\n"
     ]
    },
    {
     "data": {
      "image/png": "[encoded data removed]",
      "text/plain": [
       "<Figure size 432x288 with 1 Axes>"
      ]
     },
     "metadata": {
      "needs_background": "light"
     },
     "output_type": "display_data"
    }
   ],
   "source": [
    "# function form:\n",
    "# f(x) = ax^3+bx^2+cx+d\n",
    "# just coefficients\n",
    "\n",
    "function = [0.005,-0.3,136,402]\n",
    "\n",
    "# function to execute\n",
    "\n",
    "Kostenkehre()"
   ]
  },
  {
   "cell_type": "code",
   "execution_count": null,
   "id": "mechanical-opinion",
   "metadata": {},
   "outputs": [],
   "source": []
  }
 ],
 "metadata": {
  "kernelspec": {
   "display_name": "Python 3 (ipykernel)",
   "language": "python",
   "name": "python3"
  },
  "language_info": {
   "codemirror_mode": {
    "name": "ipython",
    "version": 3
   },
   "file_extension": ".py",
   "mimetype": "text/x-python",
   "name": "python",
   "nbconvert_exporter": "python",
   "pygments_lexer": "ipython3",
   "version": "3.9.12"
  }
 },
 "nbformat": 4,
 "nbformat_minor": 5
}
