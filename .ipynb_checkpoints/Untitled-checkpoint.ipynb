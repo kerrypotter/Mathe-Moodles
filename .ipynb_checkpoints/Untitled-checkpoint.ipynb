{
 "cells": [
  {
   "cell_type": "code",
   "execution_count": 1,
   "id": "strong-airplane",
   "metadata": {},
   "outputs": [],
   "source": [
    "from scipy import optimize"
   ]
  },
  {
   "cell_type": "code",
   "execution_count": 24,
   "id": "phantom-winning",
   "metadata": {},
   "outputs": [],
   "source": [
    "def p(x):\n",
    "    return a*x+d\n",
    "\n",
    "def E(x):\n",
    "    return p(x)*x\n",
    "\n",
    "def K(x):\n",
    "    return a*x**2+b*x+d\n",
    "\n",
    "def E_2(x):\n",
    "    return P*x\n",
    "\n",
    "def G(x):\n",
    "    return E_2(x)-K(x)\n",
    "\n",
    "def Beispiel1():\n",
    "    x = float(optimize.minimize(lambda x: -E(x),10).get(\"x\"))\n",
    "    Erlös = round(E(x),2)\n",
    "    print(\"Maximaler Erlös:\",Erlös)\n",
    "    \n",
    "def Beispiel2():\n",
    "    x = float(optimize.minimize(lambda x: -G(x),10).get(\"x\"))\n",
    "    Gewinn = round(G(x),2)\n",
    "    print(\"Maximaler Gewinn:\",Gewinn)\n",
    "    "
   ]
  },
  {
   "cell_type": "code",
   "execution_count": 25,
   "id": "russian-sponsorship",
   "metadata": {},
   "outputs": [
    {
     "name": "stdout",
     "output_type": "stream",
     "text": [
      "Maximaler Erlös: 27337.5\n"
     ]
    }
   ],
   "source": [
    "# Beispiel 1\n",
    "# function form:\n",
    "# f(x) = ax+d\n",
    "# just coefficients\n",
    "\n",
    "# Preisfunktion\n",
    "a,d = [-0.24,162]\n",
    "\n",
    "Beispiel1()"
   ]
  },
  {
   "cell_type": "code",
   "execution_count": 26,
   "id": "supreme-february",
   "metadata": {},
   "outputs": [
    {
     "name": "stdout",
     "output_type": "stream",
     "text": [
      "Maximaler Gewinn: 9.25\n"
     ]
    }
   ],
   "source": [
    "# Beispiel 2\n",
    "# function form:\n",
    "# K(x) = ax^2+b*x+d\n",
    "# just coefficients\n",
    "\n",
    "# Kostenfunktion\n",
    "a,b,d = [0.02,0.3,3]\n",
    "\n",
    "# Fixerlös pro Mengeneinheit\n",
    "P = 9\n",
    "\n",
    "Beispiel2()"
   ]
  },
  {
   "cell_type": "code",
   "execution_count": null,
   "id": "vietnamese-scholar",
   "metadata": {},
   "outputs": [],
   "source": []
  }
 ],
 "metadata": {
  "kernelspec": {
   "display_name": "Python 3 (ipykernel)",
   "language": "python",
   "name": "python3"
  },
  "language_info": {
   "codemirror_mode": {
    "name": "ipython",
    "version": 3
   },
   "file_extension": ".py",
   "mimetype": "text/x-python",
   "name": "python",
   "nbconvert_exporter": "python",
   "pygments_lexer": "ipython3",
   "version": "3.9.12"
  }
 },
 "nbformat": 4,
 "nbformat_minor": 5
}
