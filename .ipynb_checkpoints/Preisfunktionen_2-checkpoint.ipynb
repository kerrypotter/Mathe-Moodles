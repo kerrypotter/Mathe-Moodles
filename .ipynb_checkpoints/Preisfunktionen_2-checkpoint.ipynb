{
 "cells": [
  {
   "cell_type": "code",
   "execution_count": 2,
   "id": "incredible-mentor",
   "metadata": {},
   "outputs": [],
   "source": [
    "from scipy import optimize"
   ]
  },
  {
   "cell_type": "code",
   "execution_count": 31,
   "id": "fresh-switch",
   "metadata": {},
   "outputs": [],
   "source": [
    "def p(x):\n",
    "    return a*x+d\n",
    "\n",
    "def p_2(x):\n",
    "    return a*x**2+b*x+d\n",
    "\n",
    "def a_function(x):\n",
    "    return a_a*x+d_a\n",
    "\n",
    "def p_minus_a(x):\n",
    "    return p_2(x)-a_function(x)"
   ]
  },
  {
   "cell_type": "code",
   "execution_count": 32,
   "id": "blessed-current",
   "metadata": {},
   "outputs": [],
   "source": [
    "def Preisfunktion():\n",
    "    print(\"Preissenkung:\",round(p(0)-p(N),2))"
   ]
  },
  {
   "cell_type": "code",
   "execution_count": 33,
   "id": "scientific-closing",
   "metadata": {},
   "outputs": [],
   "source": [
    "def Gleichgewichtsmenge():\n",
    "    print(\"Gleichgewichtsmenge:\",round(optimize.newton(p_minus_a,10)))"
   ]
  },
  {
   "cell_type": "code",
   "execution_count": 43,
   "id": "ranking-marshall",
   "metadata": {},
   "outputs": [
    {
     "name": "stdout",
     "output_type": "stream",
     "text": [
      "Preissenkung: 1.32\n"
     ]
    }
   ],
   "source": [
    "# Beispiel 1\n",
    "# function form:\n",
    "# f(x) = ax+d\n",
    "# just coefficients\n",
    "\n",
    "# Preisfunktion\n",
    "a,d = [-0.04,96.22]\n",
    "N = 33\n",
    "\n",
    "Preisfunktion()"
   ]
  },
  {
   "cell_type": "code",
   "execution_count": 44,
   "id": "muslim-thumbnail",
   "metadata": {},
   "outputs": [
    {
     "name": "stdout",
     "output_type": "stream",
     "text": [
      "Gleichgewichtsmenge: 274\n"
     ]
    }
   ],
   "source": [
    "# Beispiel 2\n",
    "# function form:\n",
    "# p(x) = ax^2+b*x+d\n",
    "# a(x) = ax+d\n",
    "# just coefficients\n",
    "\n",
    "# Preisfunktion\n",
    "a,b,d = [-0.003,-0.04,293]\n",
    "\n",
    "# Angebotsfunktion\n",
    "a_a,d_a = [0.1,29]\n",
    "\n",
    "Gleichgewichtsmenge()"
   ]
  },
  {
   "cell_type": "code",
   "execution_count": null,
   "id": "instrumental-scanning",
   "metadata": {},
   "outputs": [],
   "source": []
  }
 ],
 "metadata": {
  "kernelspec": {
   "display_name": "Python 3 (ipykernel)",
   "language": "python",
   "name": "python3"
  },
  "language_info": {
   "codemirror_mode": {
    "name": "ipython",
    "version": 3
   },
   "file_extension": ".py",
   "mimetype": "text/x-python",
   "name": "python",
   "nbconvert_exporter": "python",
   "pygments_lexer": "ipython3",
   "version": "3.9.12"
  }
 },
 "nbformat": 4,
 "nbformat_minor": 5
}
