{
 "cells": [
  {
   "cell_type": "code",
   "execution_count": 30,
   "id": "realistic-easter",
   "metadata": {},
   "outputs": [],
   "source": [
    "from scipy import optimize"
   ]
  },
  {
   "cell_type": "code",
   "execution_count": 31,
   "id": "seven-benchmark",
   "metadata": {},
   "outputs": [],
   "source": [
    "def p(x):\n",
    "    return a*x**2+b*x+d"
   ]
  },
  {
   "cell_type": "code",
   "execution_count": 32,
   "id": "removable-devices",
   "metadata": {},
   "outputs": [],
   "source": [
    "def Preisfunktion():\n",
    "    print(\"Sättigungsmenge:\",round(optimize.newton(p,3)))\n",
    "    print(\"Preis Bei nachgefragter Menge:\",round(p(N),2))"
   ]
  },
  {
   "cell_type": "code",
   "execution_count": 36,
   "id": "heavy-timing",
   "metadata": {},
   "outputs": [
    {
     "name": "stdout",
     "output_type": "stream",
     "text": [
      "Sättigungsmenge: 390\n",
      "Preis Bei nachgefragter Menge: 156.3\n"
     ]
    }
   ],
   "source": [
    "# function form:\n",
    "# f(x) = ax^2+bx+d\n",
    "# just coefficients\n",
    "\n",
    "a,b,d = [-0.001,-0.04,168]\n",
    "\n",
    "# Nachgefragte Menge\n",
    "\n",
    "N = 90\n",
    "\n",
    "Preisfunktion()"
   ]
  },
  {
   "cell_type": "code",
   "execution_count": null,
   "id": "brown-equipment",
   "metadata": {},
   "outputs": [],
   "source": []
  }
 ],
 "metadata": {
  "kernelspec": {
   "display_name": "Python 3 (ipykernel)",
   "language": "python",
   "name": "python3"
  },
  "language_info": {
   "codemirror_mode": {
    "name": "ipython",
    "version": 3
   },
   "file_extension": ".py",
   "mimetype": "text/x-python",
   "name": "python",
   "nbconvert_exporter": "python",
   "pygments_lexer": "ipython3",
   "version": "3.9.12"
  }
 },
 "nbformat": 4,
 "nbformat_minor": 5
}
